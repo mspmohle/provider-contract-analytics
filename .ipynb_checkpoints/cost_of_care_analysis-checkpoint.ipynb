{
 "cells": [
  {
   "cell_type": "code",
   "execution_count": 1,
   "id": "e4fc4b13-78a2-42bc-ba07-54585f834fe9",
   "metadata": {},
   "outputs": [
    {
     "name": "stdout",
     "output_type": "stream",
     "text": [
      "Python: 3.11.14\n",
      "pandas: 2.3.3\n",
      "numpy: 2.3.4\n",
      "matplotlib: 3.10.7\n",
      "seaborn: 0.13.2\n",
      "scikit-learn: 1.7.2\n",
      "statsmodels: 0.14.5\n",
      "\n",
      "✅ Environment initialized and directories verified:\n",
      "  - data/raw\n",
      "  - data/processed\n",
      "  - figures\n",
      "  - notebooks\n",
      "  - scripts\n",
      "  - outputs\n",
      "\n",
      "Random seed set (42)\n"
     ]
    }
   ],
   "source": [
    "# ==========================================================\n",
    "# 1. Environment Setup & Verification\n",
    "# ==========================================================\n",
    "# Purpose:\n",
    "#   - Confirm Python environment and library versions\n",
    "#   - Initialize standard directories for the Elevance\n",
    "#     Cost of Care Analytics project\n",
    "# ==========================================================\n",
    "\n",
    "import sys, os\n",
    "import pandas as pd\n",
    "import numpy as np\n",
    "import matplotlib\n",
    "import seaborn as sns\n",
    "import sklearn\n",
    "import statsmodels\n",
    "\n",
    "# --- Display Versions --------------------------------------------------------\n",
    "print(\"Python:\", sys.version.split()[0])\n",
    "print(\"pandas:\", pd.__version__)\n",
    "print(\"numpy:\", np.__version__)\n",
    "print(\"matplotlib:\", matplotlib.__version__)\n",
    "print(\"seaborn:\", sns.__version__)\n",
    "print(\"scikit-learn:\", sklearn.__version__)\n",
    "print(\"statsmodels:\", statsmodels.__version__)\n",
    "\n",
    "# --- Directory Setup ---------------------------------------------------------\n",
    "base_dirs = [\"data/raw\", \"data/processed\", \"figures\", \"notebooks\", \"scripts\", \"outputs\"]\n",
    "for d in base_dirs:\n",
    "    os.makedirs(d, exist_ok=True)\n",
    "\n",
    "print(\"\\n✅ Environment initialized and directories verified:\")\n",
    "for d in base_dirs:\n",
    "    print(f\"  - {d}\")\n",
    "\n",
    "# --- Random Seed for Reproducibility ----------------------------------------\n",
    "np.random.seed(42)\n",
    "print(\"\\nRandom seed set (42)\")\n"
   ]
  },
  {
   "cell_type": "code",
   "execution_count": null,
   "id": "071c5de1-72a9-46be-867c-5df10ee75d89",
   "metadata": {},
   "outputs": [],
   "source": []
  }
 ],
 "metadata": {
  "kernelspec": {
   "display_name": "Python 3 (ipykernel)",
   "language": "python",
   "name": "python3"
  },
  "language_info": {
   "codemirror_mode": {
    "name": "ipython",
    "version": 3
   },
   "file_extension": ".py",
   "mimetype": "text/x-python",
   "name": "python",
   "nbconvert_exporter": "python",
   "pygments_lexer": "ipython3",
   "version": "3.11.14"
  }
 },
 "nbformat": 4,
 "nbformat_minor": 5
}
